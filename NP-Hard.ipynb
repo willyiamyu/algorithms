{
 "cells": [
  {
   "cell_type": "markdown",
   "metadata": {},
   "source": [
    "# NP-Hard Problems\n",
    "\n",
    "The purpose of this assignment is to familiarize yourself with different approaches to solving NP-hard problems in practice, especially via integer programming.\n",
    "\n",
    "As in previous assignments, we will use [NetworkX](https://networkx.github.io/) to manipulate graphs and [PuLP](http://pythonhosted.org/PuLP/) to solve linear and integer programs."
   ]
  },
  {
   "cell_type": "code",
   "execution_count": 1,
   "metadata": {},
   "outputs": [],
   "source": [
    "import networkx as nx\n",
    "import pulp"
   ]
  },
  {
   "cell_type": "markdown",
   "metadata": {},
   "source": [
    "We will use two graph datasets for this assignment, both available in [GML](https://en.wikipedia.org/wiki/Graph_Modelling_Language) format. The first is a well-known graph of the social network of a karate club [1]. The second is a network representing the western states power grid in the US [2]."
   ]
  },
  {
   "cell_type": "code",
   "execution_count": 2,
   "metadata": {},
   "outputs": [],
   "source": [
    "karate = nx.read_gml('karate.gml',label='id')\n",
    "power = nx.read_gml('power.gml',label='id')"
   ]
  },
  {
   "cell_type": "markdown",
   "metadata": {},
   "source": [
    "[1] W. Zachary, An information flow model for conflict and fission in small groups, Journal of Anthropological Research 33, 452-473 (1977). \n",
    "\n",
    "[2] D. J. Watts and S. H. Strogatz, Collective dynamics of 'small world' networks, Nature 393, 440-442 (1998). "
   ]
  },
  {
   "cell_type": "markdown",
   "metadata": {},
   "source": [
    "## Independent Set\n",
    "\n",
    "Recall that an *independent set* in a graph is a set of nodes such that no two nodes are adjacent (connected by an edge). Finding the maximum size of an independent set in a graph is an NP-hard problem, so there is no known polynomial-time algorithm to solve it.\n",
    "\n",
    "### Problem 1\n",
    "\n",
    "Provide an *integer programming* formulation for this problem here. The graph is denoted by $G = (V, E)$. Use a binary variable $x_i \\in \\{0,1\\}$ for each node $i \\in V$ (you do not need any other variables)."
   ]
  },
  {
   "cell_type": "markdown",
   "metadata": {},
   "source": [
    "#### Solution:\n",
    "\n",
    "\\begin{equation}\n",
    "G = n \\; nodes, m \\; edges \\\\\n",
    "x_i = 1 \\; if \\; node_i \\in IS, 0 \\; o.w. \\\\\n",
    "max \\sum_{i=1}^{n} x_i \\; s.t. \\\\ \n",
    "x_i + x_j \\leq 1 \\; \\; \\forall \\ (v_i,v_j) \\in E, \\; i < j \\\\\n",
    "x_i \\in \\{0,1\\} \\; \\forall \\; 1 \\leq i \\leq n\n",
    "\\end{equation}"
   ]
  },
  {
   "cell_type": "markdown",
   "metadata": {},
   "source": [
    "### Problem 2\n",
    "\n",
    "Implement a function that solves the integer program given a graph as input."
   ]
  },
  {
   "cell_type": "code",
   "execution_count": 3,
   "metadata": {},
   "outputs": [],
   "source": [
    "def independent_set_ip(graph):\n",
    "    \"\"\"Computes a maximum independent set of a graph using an integer program.\n",
    "    \n",
    "    Args:\n",
    "      - graph (nx.Graph): an undirected graph\n",
    "    \n",
    "    Returns:\n",
    "        (list[(int, int)]) The IP solution as a list of node-value pairs.\n",
    "        \n",
    "    \"\"\"    \n",
    "    xi=[]\n",
    "    for i in graph.nodes():\n",
    "        xi.append(i)\n",
    "        \n",
    "    problem = pulp.LpProblem(\"Max IS IP Problem\", pulp.LpMaximize)\n",
    "    x = pulp.LpVariable.dict('x', [str(j) for j in xi], lowBound=0, cat='Integer')\n",
    "        \n",
    "    for i in xi:\n",
    "        problem += x[str(i)] <= 1\n",
    "        \n",
    "    for j in graph.edges(data=True):\n",
    "        problem += x[str(j[0])]+x[str(j[1])] <= 1\n",
    "    \n",
    "    problem += pulp.lpSum([x[str(i)] for i in xi])\n",
    "    problem.solve()\n",
    "    \n",
    "    list = []\n",
    "    for k in xi:\n",
    "        y = x[str(k)].value()\n",
    "        z = [(int(k), int(y))]\n",
    "        list.extend(z)\n",
    "        \n",
    "    return list"
   ]
  },
  {
   "cell_type": "markdown",
   "metadata": {},
   "source": [
    "The following code outputs the size of the sets computed by your function."
   ]
  },
  {
   "cell_type": "code",
   "execution_count": 4,
   "metadata": {},
   "outputs": [],
   "source": [
    "def set_weight(solution):\n",
    "    \"\"\"Computes the total weight of the solution of an LP or IP for independent set.\n",
    "    \n",
    "    Args:\n",
    "      - solution (list[int, float]): the LP or IP solution\n",
    "    \n",
    "    Returns:\n",
    "      (float) Total weight of the solution\n",
    "    \n",
    "    \"\"\"\n",
    "    return sum(value for (node, value) in solution)"
   ]
  },
  {
   "cell_type": "code",
   "execution_count": 5,
   "metadata": {},
   "outputs": [
    {
     "name": "stdout",
     "output_type": "stream",
     "text": [
      "Size of karate set = 20\n",
      "Size of power set = 2738\n"
     ]
    }
   ],
   "source": [
    "karate_ind_set = independent_set_ip(karate)\n",
    "print(\"Size of karate set = {}\".format(set_weight(karate_ind_set)))\n",
    "power_ind_set = independent_set_ip(power)\n",
    "print(\"Size of power set = {}\".format(set_weight(power_ind_set)))"
   ]
  },
  {
   "cell_type": "markdown",
   "metadata": {},
   "source": [
    "### Problem 3\n",
    "\n",
    "Take the *linear programming relaxation* of your integer program and implement a function to solve it. This simply means that in your integer program, you should replace each constraint $x_i \\in \\{0,1\\}$ with $0 \\leq x_i \\leq 1$."
   ]
  },
  {
   "cell_type": "code",
   "execution_count": 6,
   "metadata": {},
   "outputs": [],
   "source": [
    "def independent_set_lp(graph):\n",
    "    \"\"\"Computes the solution to the linear programming relaxation for the\n",
    "    maximum independent set problem.\n",
    "    \n",
    "    Args:\n",
    "      - graph (nx.Graph): an undirected graph\n",
    "    \n",
    "    Returns:\n",
    "        (list[(int, float)]) The LP solution as a list of node-value pairs.\n",
    "        \n",
    "    \"\"\"    \n",
    "    xi=[]\n",
    "    for i in graph.nodes():\n",
    "        xi.append(i)\n",
    "        \n",
    "    problem = pulp.LpProblem(\"Max IS IP Problem\", pulp.LpMaximize)\n",
    "    x = pulp.LpVariable.dict('x', [str(j) for j in xi], lowBound=0, cat='Continuous')\n",
    "        \n",
    "    for i in xi:\n",
    "        problem += x[str(i)] <= 1\n",
    "        \n",
    "    for j in graph.edges(data=True):\n",
    "        problem += x[str(j[0])]+x[str(j[1])] <= 1\n",
    "    \n",
    "    problem += pulp.lpSum([x[str(i)] for i in xi])\n",
    "    problem.solve()\n",
    "    \n",
    "    list = []\n",
    "    for k in xi:\n",
    "        y = x[str(k)].value()\n",
    "        z = [(int(k), float(y))]\n",
    "        list.extend(z)\n",
    "        \n",
    "    return list"
   ]
  },
  {
   "cell_type": "markdown",
   "metadata": {},
   "source": [
    "Let's see how the LP solutions compares to those of the IPs."
   ]
  },
  {
   "cell_type": "code",
   "execution_count": 7,
   "metadata": {},
   "outputs": [
    {
     "name": "stdout",
     "output_type": "stream",
     "text": [
      "Value of karate set = 20.5\n",
      "Value of power set = 2757.9999999999786\n"
     ]
    }
   ],
   "source": [
    "karate_ind_set_relax = independent_set_lp(karate)\n",
    "print(\"Value of karate set = {}\".format(set_weight(karate_ind_set_relax)))\n",
    "power_ind_set_relax = independent_set_lp(power)\n",
    "print(\"Value of power set = {}\".format(set_weight(power_ind_set_relax)))"
   ]
  },
  {
   "cell_type": "markdown",
   "metadata": {},
   "source": [
    "A heuristic way to convert a fractional solution to an independent set is as follows. For each node $i$, include the node in the set if $x_i > 1/2$, and discard it otherwise. This will yield a set of $\\alpha$ nodes which have $\\beta$ edges between them. By removing at most one node for each edge, this yields an independent set of size at least $\\alpha - \\beta$."
   ]
  },
  {
   "cell_type": "markdown",
   "metadata": {},
   "source": [
    "Implement this rounding procedure."
   ]
  },
  {
   "cell_type": "code",
   "execution_count": 8,
   "metadata": {},
   "outputs": [],
   "source": [
    "def round_solution(solution, graph):\n",
    "    \"\"\"Finds the subgraph corresponding to the rounding of\n",
    "    a solution to the independent set LP relaxation.\n",
    "    \n",
    "    Args:\n",
    "      - solution (list[(int, float)]): LP solution\n",
    "      - graph (nx.Graph): the original graph\n",
    "      \n",
    "    Returns:\n",
    "        (nx.Graph) The subgraph corresponding to rounded solution\n",
    "    \n",
    "    \"\"\"\n",
    "    G_prime = nx.Graph()\n",
    "    for edge in graph.edges():\n",
    "        G_prime.add_edge(edge[0], edge[1])\n",
    "    \n",
    "    for i in solution:\n",
    "        if i[1] <= 1./2:\n",
    "            G_prime.remove_node(i[0])\n",
    "    return G_prime"
   ]
  },
  {
   "cell_type": "markdown",
   "metadata": {},
   "source": [
    "The following function assesses the quality of the heuristic approach."
   ]
  },
  {
   "cell_type": "code",
   "execution_count": 9,
   "metadata": {},
   "outputs": [],
   "source": [
    "def solution_quality(rounded, optimal):\n",
    "    \"\"\"Computes the percent optimality of the rounded solution.\n",
    "    \n",
    "    Args:\n",
    "      - rounded (nx.Graph): the graph obtained from rounded LP solution\n",
    "      - optimal: size of maximum independent set\n",
    "\n",
    "    \"\"\"\n",
    "    num_nodes = rounded.number_of_nodes() - rounded.number_of_edges()\n",
    "    return float(num_nodes) / optimal"
   ]
  },
  {
   "cell_type": "markdown",
   "metadata": {},
   "source": [
    "Let's check the quality of this approach compared to the optimal IP solutions."
   ]
  },
  {
   "cell_type": "code",
   "execution_count": 10,
   "metadata": {},
   "outputs": [
    {
     "name": "stdout",
     "output_type": "stream",
     "text": [
      "Quality of karate rounded solution = 90%\n",
      "Quality of power rounded solution = 95%\n"
     ]
    }
   ],
   "source": [
    "karate_rounded = round_solution(karate_ind_set_relax, karate)\n",
    "karate_quality = solution_quality(karate_rounded, set_weight(karate_ind_set))\n",
    "print(\"Quality of karate rounded solution = {:.0f}%\".format(karate_quality*100))\n",
    "\n",
    "power_rounded = round_solution(power_ind_set_relax, power)\n",
    "power_quality = solution_quality(power_rounded, set_weight(power_ind_set))\n",
    "print(\"Quality of power rounded solution = {:.0f}%\".format(power_quality*100))"
   ]
  }
 ],
 "metadata": {
  "kernelspec": {
   "display_name": "Python 3",
   "language": "python",
   "name": "python3"
  },
  "language_info": {
   "codemirror_mode": {
    "name": "ipython",
    "version": 3
   },
   "file_extension": ".py",
   "mimetype": "text/x-python",
   "name": "python",
   "nbconvert_exporter": "python",
   "pygments_lexer": "ipython3",
   "version": "3.7.3"
  }
 },
 "nbformat": 4,
 "nbformat_minor": 1
}
