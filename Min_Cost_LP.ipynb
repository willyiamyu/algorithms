{
 "cells": [
  {
   "cell_type": "markdown",
   "metadata": {},
   "source": [
    "# Generalizations of Max-Flow\n",
    "\n",
    "The purpose of this assignment is to learn about the min-cost flow problem, a generalization of max-flow, and to familiarize yourself with implementing and solving linear programs."
   ]
  },
  {
   "cell_type": "markdown",
   "metadata": {},
   "source": [
    "## Min-Cost Flow\n",
    "\n",
    "Recall that a flow network with demands consists of a directed graph $G = (V, E)$, where each edge $(i,j) \\in E$ has a positive integer capacity $c_{ij}$ and each node $i \\in V$ has an integer demand $d_i$ (see also Problem 1 in hw3t). In a *min-cost flow* problem, each edge $(i,j) \\in E$ also has a cost (or weight) $w_{ij}$. (Note that this input generalizes the input to two important problems we discussed so far: in max flow, the edge weights were not important while in shortest paths, the edge capacities were not important.) \n",
    "\n",
    "Given a flow network with capacities and costs, the goal is to find a *feasible* flow $f: E \\rightarrow R^+$ --that is, a flow satisfying edge capacity constraints and node demands-- that minimizes the total cost of the flow. Explicitly, the problem can be formulated as a linear program."
   ]
  },
  {
   "cell_type": "markdown",
   "metadata": {},
   "source": [
    "### Question 1\n",
    "\n",
    "Answer Problem 1 in hw4-theoretical."
   ]
  },
  {
   "cell_type": "markdown",
   "metadata": {},
   "source": [
    "### Question 2\n",
    "\n",
    "To implement your reduction from Problem 1 in hw4t, you will work with some standard benchmark instances for min-cost flow included in the hw4p folder on canvas. The format of the data is described in the Info file. You are to read in the graph from the data file in a form that can be solved using NetworkX's `min_cost_flow` function. Note that the data sometimes lists multiple edges between the same nodes, but with different costs or capacities. In forming the graph, you need to implement your reduction from the previous question and form a `DiGraph` instance, because the `min_cost_flow` function cannot handle multi-edges, even though the package offers `MultiDiGraph` objects."
   ]
  },
  {
   "cell_type": "code",
   "execution_count": 33,
   "metadata": {},
   "outputs": [],
   "source": [
    "import networkx as nx\n",
    "\n",
    "def create_graph(infile):\n",
    "    \"\"\"Creates a directed graph as specified by the input file. Edges are annotated with 'capacity'\n",
    "    and 'weight' attributes, and nodes are annotated with 'demand' attributes.\n",
    "    \n",
    "    Args:\n",
    "        infile: the input file using the format to specify a min-cost flow problem.\n",
    "        \n",
    "    Returns:\n",
    "        A directed graph (but not a multi-graph) with edges annotated with 'capacity' and 'weight' attributes\n",
    "        and nodes annotated with 'demand' attributes.\n",
    "    \"\"\"\n",
    "    # TODO: implement function\n",
    "    \n",
    "    def read_edges(infile, G):\n",
    "        file = open(infile)\n",
    "        node = 0\n",
    "        for line in file:\n",
    "            if 'p' in line:\n",
    "                continue\n",
    "            if 'a' in line:\n",
    "                indx = line.index('a')\n",
    "                line = line[(indx+2):]\n",
    "                s1, s2, d, cap, cost = line.strip().split()\n",
    "                G.add_edge(s1, s2, capacity = float(cap), weight = float(cost))\n",
    "                if (s1, s2) in G.edges(): # add new edge for every multi-edge in graph\n",
    "                    new_node = 'node' + str(node)\n",
    "                    G.add_node(new_node)\n",
    "                    G.add_edge(s1, new_node)\n",
    "                    G.edges[s1, new_node]['capacity']=float(cap)\n",
    "                    G.edges[s1, new_node]['weight']=0\n",
    "                    G.add_edge(new_node, s2)\n",
    "                    G.edges[new_node, s2]['capacity']=float(cap)\n",
    "                    G.edges[new_node, s2]['weight']=float(cost)\n",
    "                    G.remove_edge(s1,s2)\n",
    "                    node += 1\n",
    "                else:\n",
    "                    G.add_edge(s1, s2, capacity = float(cap), weight = float(cost))\n",
    "                \n",
    "        return G\n",
    "        \n",
    "    def read_nodes(infile, G):\n",
    "        for node in G.nodes():\n",
    "            G.add_node(node)\n",
    "            G.nodes[node]['demand'] = 0\n",
    "        \n",
    "        file = open(infile) #open file everytime need to read new one in\n",
    "        for line in file:\n",
    "            if 'p' in line:\n",
    "                continue\n",
    "            if 'n' in line:\n",
    "                indx = line.index('n')\n",
    "                line = line[(indx+2):]\n",
    "                s, d = line.strip().split()\n",
    "                G.add_node(s, demand=float(d))\n",
    "                \n",
    "        return G\n",
    "    \n",
    "    G = nx.DiGraph()\n",
    "    G = read_edges(infile, G)\n",
    "    G = read_nodes(infile, G)\n",
    "    return G"
   ]
  },
  {
   "cell_type": "raw",
   "metadata": {},
   "source": [
    "The following will check that your code outputs the correct min cost flow values on several test instances."
   ]
  },
  {
   "cell_type": "code",
   "execution_count": 74,
   "metadata": {},
   "outputs": [
    {
     "name": "stdout",
     "output_type": "stream",
     "text": [
      "Correct value for _40 instance: True\n",
      "Correct value for _6830 instance: True\n",
      "Correct value for _176280 instance: True\n"
     ]
    }
   ],
   "source": [
    "G_40 = create_graph('gte_bad.40')\n",
    "G_6830 = create_graph('gte_bad.6830')\n",
    "G_176280 = create_graph('gte_bad.176280')\n",
    "\n",
    "print(\"Correct value for _40 instance:\", nx.flow.min_cost_flow_cost(G_40) == 52099553858)\n",
    "print(\"Correct value for _6830 instance:\", nx.flow.min_cost_flow_cost(G_6830) == 299390431788)\n",
    "print(\"Correct value for _176280 instance:\", nx.flow.min_cost_flow_cost(G_176280) == 510585093810)"
   ]
  },
  {
   "cell_type": "markdown",
   "metadata": {},
   "source": [
    "## Linear Programming\n",
    "\n",
    "Instead of using special-purpose min-cost flow solvers, you will now formulate the problems as linear programs and use general-purpose LP solvers to find the solutions."
   ]
  },
  {
   "cell_type": "markdown",
   "metadata": {},
   "source": [
    "### Question 3\n",
    "\n",
    "Implement the following function to formulate the flow LP and return the optimal value (i.e., minimum cost over feasible flows)."
   ]
  },
  {
   "cell_type": "code",
   "execution_count": 260,
   "metadata": {},
   "outputs": [],
   "source": [
    "import pulp\n",
    "\n",
    "def lp_flow_value(G):\n",
    "    \"\"\"Computes the value of the minimum cost flow by formulating and solving\n",
    "    the problem as an LP.\n",
    "    \n",
    "    Args:\n",
    "        G: a directed graph with edges annotated with 'capacity' and 'weight'\n",
    "            attrbutes, and nodes annotated with 'demand' attributes.\n",
    "            \n",
    "    Returns:\n",
    "        The value of the minimum cost flow.\n",
    "    \"\"\"\n",
    "    # TODO: implement function\n",
    "    problem = pulp.LpProblem(\"Min Cost Flow LP Problem\", pulp.LpMinimize)\n",
    "    f = 0\n",
    "    \n",
    "    for i,j in G.edges():\n",
    "        flow = pulp.LpVariable(\"flow\"+str(f), lowBound=0, cat='Continuous')\n",
    "        G.edges[i,j]['flow'] = flow\n",
    "        problem += G.edges[i,j]['flow'] <= G.edges[i,j]['capacity']\n",
    "        f += 1\n",
    "    \n",
    "    for node in G.nodes():\n",
    "        in_flow = [G.edges[i,j]['flow'] for i,j in G.edges() if j == node]\n",
    "        out_flow = [G.edges[i,j]['flow'] for i,j in G.edges() if i == node]\n",
    "        problem += (pulp.lpSum(in_flow) - pulp.lpSum(out_flow) == G.nodes[node]['demand'])\n",
    "        \n",
    "    problem += pulp.lpSum(G.edges[i,j]['flow']*G.edges[i,j]['weight'] for i,j in G.edges())\n",
    "    \n",
    "    problem.solve()\n",
    "    return pulp.value(problem.objective)"
   ]
  },
  {
   "cell_type": "markdown",
   "metadata": {},
   "source": [
    "The following will check that the LP finds the same optimal values as previously."
   ]
  },
  {
   "cell_type": "code",
   "execution_count": 261,
   "metadata": {},
   "outputs": [
    {
     "name": "stdout",
     "output_type": "stream",
     "text": [
      "Correct value for _40 instance: True\n",
      "Correct value for _6830 instance: True\n",
      "Correct value for _176280 instance: True\n"
     ]
    }
   ],
   "source": [
    "print( \"Correct value for _40 instance:\", lp_flow_value(G_40) == 52099553858)\n",
    "print( \"Correct value for _6830 instance:\", lp_flow_value(G_6830) == 299390431788)\n",
    "print( \"Correct value for _176280 instance:\", lp_flow_value(G_176280) == 510585093810)"
   ]
  }
 ],
 "metadata": {
  "kernelspec": {
   "display_name": "Python 3",
   "language": "python",
   "name": "python3"
  },
  "language_info": {
   "codemirror_mode": {
    "name": "ipython",
    "version": 3
   },
   "file_extension": ".py",
   "mimetype": "text/x-python",
   "name": "python",
   "nbconvert_exporter": "python",
   "pygments_lexer": "ipython3",
   "version": "3.7.3"
  }
 },
 "nbformat": 4,
 "nbformat_minor": 1
}
